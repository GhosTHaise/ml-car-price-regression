{
 "cells": [
  {
   "cell_type": "code",
   "execution_count": 3,
   "metadata": {},
   "outputs": [],
   "source": [
    "import pandas as pd"
   ]
  },
  {
   "cell_type": "code",
   "execution_count": 4,
   "metadata": {},
   "outputs": [],
   "source": [
    "train_ds = pd.read_csv(\"train.csv\")\n"
   ]
  },
  {
   "cell_type": "code",
   "execution_count": 8,
   "metadata": {},
   "outputs": [
    {
     "data": {
      "text/html": [
       "<div>\n",
       "<style scoped>\n",
       "    .dataframe tbody tr th:only-of-type {\n",
       "        vertical-align: middle;\n",
       "    }\n",
       "\n",
       "    .dataframe tbody tr th {\n",
       "        vertical-align: top;\n",
       "    }\n",
       "\n",
       "    .dataframe thead th {\n",
       "        text-align: right;\n",
       "    }\n",
       "</style>\n",
       "<table border=\"1\" class=\"dataframe\">\n",
       "  <thead>\n",
       "    <tr style=\"text-align: right;\">\n",
       "      <th></th>\n",
       "      <th>id</th>\n",
       "      <th>brand</th>\n",
       "      <th>model</th>\n",
       "      <th>model_year</th>\n",
       "      <th>milage</th>\n",
       "      <th>fuel_type</th>\n",
       "      <th>engine</th>\n",
       "      <th>transmission</th>\n",
       "      <th>ext_col</th>\n",
       "      <th>int_col</th>\n",
       "      <th>accident</th>\n",
       "      <th>clean_title</th>\n",
       "      <th>price</th>\n",
       "    </tr>\n",
       "  </thead>\n",
       "  <tbody>\n",
       "    <tr>\n",
       "      <th>0</th>\n",
       "      <td>0</td>\n",
       "      <td>MINI</td>\n",
       "      <td>Cooper S Base</td>\n",
       "      <td>2007</td>\n",
       "      <td>213000</td>\n",
       "      <td>Gasoline</td>\n",
       "      <td>172.0HP 1.6L 4 Cylinder Engine Gasoline Fuel</td>\n",
       "      <td>A/T</td>\n",
       "      <td>Yellow</td>\n",
       "      <td>Gray</td>\n",
       "      <td>None reported</td>\n",
       "      <td>Yes</td>\n",
       "      <td>4200</td>\n",
       "    </tr>\n",
       "    <tr>\n",
       "      <th>1</th>\n",
       "      <td>1</td>\n",
       "      <td>Lincoln</td>\n",
       "      <td>LS V8</td>\n",
       "      <td>2002</td>\n",
       "      <td>143250</td>\n",
       "      <td>Gasoline</td>\n",
       "      <td>252.0HP 3.9L 8 Cylinder Engine Gasoline Fuel</td>\n",
       "      <td>A/T</td>\n",
       "      <td>Silver</td>\n",
       "      <td>Beige</td>\n",
       "      <td>At least 1 accident or damage reported</td>\n",
       "      <td>Yes</td>\n",
       "      <td>4999</td>\n",
       "    </tr>\n",
       "    <tr>\n",
       "      <th>2</th>\n",
       "      <td>2</td>\n",
       "      <td>Chevrolet</td>\n",
       "      <td>Silverado 2500 LT</td>\n",
       "      <td>2002</td>\n",
       "      <td>136731</td>\n",
       "      <td>E85 Flex Fuel</td>\n",
       "      <td>320.0HP 5.3L 8 Cylinder Engine Flex Fuel Capab...</td>\n",
       "      <td>A/T</td>\n",
       "      <td>Blue</td>\n",
       "      <td>Gray</td>\n",
       "      <td>None reported</td>\n",
       "      <td>Yes</td>\n",
       "      <td>13900</td>\n",
       "    </tr>\n",
       "  </tbody>\n",
       "</table>\n",
       "</div>"
      ],
      "text/plain": [
       "   id      brand              model  model_year  milage      fuel_type  \\\n",
       "0   0       MINI      Cooper S Base        2007  213000       Gasoline   \n",
       "1   1    Lincoln              LS V8        2002  143250       Gasoline   \n",
       "2   2  Chevrolet  Silverado 2500 LT        2002  136731  E85 Flex Fuel   \n",
       "\n",
       "                                              engine transmission ext_col  \\\n",
       "0       172.0HP 1.6L 4 Cylinder Engine Gasoline Fuel          A/T  Yellow   \n",
       "1       252.0HP 3.9L 8 Cylinder Engine Gasoline Fuel          A/T  Silver   \n",
       "2  320.0HP 5.3L 8 Cylinder Engine Flex Fuel Capab...          A/T    Blue   \n",
       "\n",
       "  int_col                                accident clean_title  price  \n",
       "0    Gray                           None reported         Yes   4200  \n",
       "1   Beige  At least 1 accident or damage reported         Yes   4999  \n",
       "2    Gray                           None reported         Yes  13900  "
      ]
     },
     "execution_count": 8,
     "metadata": {},
     "output_type": "execute_result"
    }
   ],
   "source": [
    "train_ds.head(3)"
   ]
  },
  {
   "cell_type": "code",
   "execution_count": 11,
   "metadata": {},
   "outputs": [
    {
     "data": {
      "text/plain": [
       "<bound method DataFrame.info of             id          brand                     model  model_year  milage  \\\n",
       "0            0           MINI             Cooper S Base        2007  213000   \n",
       "1            1        Lincoln                     LS V8        2002  143250   \n",
       "2            2      Chevrolet         Silverado 2500 LT        2002  136731   \n",
       "3            3        Genesis          G90 5.0 Ultimate        2017   19500   \n",
       "4            4  Mercedes-Benz               Metris Base        2021    7388   \n",
       "...        ...            ...                       ...         ...     ...   \n",
       "188528  188528       Cadillac     Escalade ESV Platinum        2017   49000   \n",
       "188529  188529  Mercedes-Benz  AMG C 43 AMG C 43 4MATIC        2018   28600   \n",
       "188530  188530  Mercedes-Benz    AMG GLC 63 Base 4MATIC        2021   13650   \n",
       "188531  188531           Audi          S5 3.0T Prestige        2022   13895   \n",
       "188532  188532        Porsche                Macan Base        2016   59500   \n",
       "\n",
       "            fuel_type                                             engine  \\\n",
       "0            Gasoline       172.0HP 1.6L 4 Cylinder Engine Gasoline Fuel   \n",
       "1            Gasoline       252.0HP 3.9L 8 Cylinder Engine Gasoline Fuel   \n",
       "2       E85 Flex Fuel  320.0HP 5.3L 8 Cylinder Engine Flex Fuel Capab...   \n",
       "3            Gasoline       420.0HP 5.0L 8 Cylinder Engine Gasoline Fuel   \n",
       "4            Gasoline       208.0HP 2.0L 4 Cylinder Engine Gasoline Fuel   \n",
       "...               ...                                                ...   \n",
       "188528       Gasoline       420.0HP 6.2L 8 Cylinder Engine Gasoline Fuel   \n",
       "188529       Gasoline      385.0HP 3.0L V6 Cylinder Engine Gasoline Fuel   \n",
       "188530       Gasoline       469.0HP 4.0L 8 Cylinder Engine Gasoline Fuel   \n",
       "188531       Gasoline                                               3.0L   \n",
       "188532       Gasoline       252.0HP 2.0L 4 Cylinder Engine Gasoline Fuel   \n",
       "\n",
       "                          transmission                    ext_col int_col  \\\n",
       "0                                  A/T                     Yellow    Gray   \n",
       "1                                  A/T                     Silver   Beige   \n",
       "2                                  A/T                       Blue    Gray   \n",
       "3       Transmission w/Dual Shift Mode                      Black   Black   \n",
       "4                          7-Speed A/T                      Black   Beige   \n",
       "...                                ...                        ...     ...   \n",
       "188528  Transmission w/Dual Shift Mode                      White   Beige   \n",
       "188529                     8-Speed A/T                      White   Black   \n",
       "188530                     7-Speed A/T                      White   Black   \n",
       "188531               1-Speed Automatic  Daytona Gray Pearl Effect   Black   \n",
       "188532  Transmission w/Dual Shift Mode                      White   Black   \n",
       "\n",
       "                                      accident clean_title  price  \n",
       "0                                None reported         Yes   4200  \n",
       "1       At least 1 accident or damage reported         Yes   4999  \n",
       "2                                None reported         Yes  13900  \n",
       "3                                None reported         Yes  45000  \n",
       "4                                None reported         Yes  97500  \n",
       "...                                        ...         ...    ...  \n",
       "188528                           None reported         Yes  27500  \n",
       "188529  At least 1 accident or damage reported         Yes  30000  \n",
       "188530                           None reported         Yes  86900  \n",
       "188531                           None reported         NaN  84900  \n",
       "188532                           None reported         Yes  28995  \n",
       "\n",
       "[188533 rows x 13 columns]>"
      ]
     },
     "execution_count": 11,
     "metadata": {},
     "output_type": "execute_result"
    }
   ],
   "source": [
    "train_ds.info"
   ]
  },
  {
   "cell_type": "code",
   "execution_count": null,
   "metadata": {},
   "outputs": [],
   "source": []
  },
  {
   "cell_type": "code",
   "execution_count": null,
   "metadata": {},
   "outputs": [],
   "source": []
  }
 ],
 "metadata": {
  "kernelspec": {
   "display_name": "Python 3",
   "language": "python",
   "name": "python3"
  },
  "language_info": {
   "codemirror_mode": {
    "name": "ipython",
    "version": 3
   },
   "file_extension": ".py",
   "mimetype": "text/x-python",
   "name": "python",
   "nbconvert_exporter": "python",
   "pygments_lexer": "ipython3",
   "version": "3.10.0"
  }
 },
 "nbformat": 4,
 "nbformat_minor": 2
}
