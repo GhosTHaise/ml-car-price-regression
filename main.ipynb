{
 "cells": [
  {
   "cell_type": "code",
   "execution_count": 3,
   "metadata": {},
   "outputs": [],
   "source": [
    "import pandas as pd\n",
    "import numpy as np\n",
    "import matplotlib.pyplot as plt\n",
    "import seaborn as sns\n",
    "from sklearn.model_selection import train_test_split\n",
    "from sklearn.impute import SimpleImputer\n",
    "from sklearn.preprocessing import StandardScaler, OneHotEncoder\n",
    "from sklearn.compose import ColumnTransformer\n",
    "from sklearn.preprocessing import FunctionTransformer\n",
    "from sklearn.pipeline import Pipeline\n",
    "from sklearn.ensemble import RandomForestRegressor\n",
    "from sklearn.metrics import mean_squared_error, r2_score\n",
    "from sklearn.experimental import enable_iterative_imputer  # Enable the iterative imputer\n",
    "from sklearn.impute import IterativeImputer"
   ]
  },
  {
   "cell_type": "code",
   "execution_count": 4,
   "metadata": {},
   "outputs": [],
   "source": [
    "df = pd.read_csv(\"train.csv\")\n",
    "df_test = pd.read_csv(\"test.csv\")\n"
   ]
  },
  {
   "cell_type": "code",
   "execution_count": 5,
   "metadata": {},
   "outputs": [
    {
     "data": {
      "text/html": [
       "<div>\n",
       "<style scoped>\n",
       "    .dataframe tbody tr th:only-of-type {\n",
       "        vertical-align: middle;\n",
       "    }\n",
       "\n",
       "    .dataframe tbody tr th {\n",
       "        vertical-align: top;\n",
       "    }\n",
       "\n",
       "    .dataframe thead th {\n",
       "        text-align: right;\n",
       "    }\n",
       "</style>\n",
       "<table border=\"1\" class=\"dataframe\">\n",
       "  <thead>\n",
       "    <tr style=\"text-align: right;\">\n",
       "      <th></th>\n",
       "      <th>id</th>\n",
       "      <th>brand</th>\n",
       "      <th>model</th>\n",
       "      <th>model_year</th>\n",
       "      <th>milage</th>\n",
       "      <th>fuel_type</th>\n",
       "      <th>engine</th>\n",
       "      <th>transmission</th>\n",
       "      <th>ext_col</th>\n",
       "      <th>int_col</th>\n",
       "      <th>accident</th>\n",
       "      <th>clean_title</th>\n",
       "      <th>price</th>\n",
       "    </tr>\n",
       "  </thead>\n",
       "  <tbody>\n",
       "    <tr>\n",
       "      <th>0</th>\n",
       "      <td>0</td>\n",
       "      <td>MINI</td>\n",
       "      <td>Cooper S Base</td>\n",
       "      <td>2007</td>\n",
       "      <td>213000</td>\n",
       "      <td>Gasoline</td>\n",
       "      <td>172.0HP 1.6L 4 Cylinder Engine Gasoline Fuel</td>\n",
       "      <td>A/T</td>\n",
       "      <td>Yellow</td>\n",
       "      <td>Gray</td>\n",
       "      <td>None reported</td>\n",
       "      <td>Yes</td>\n",
       "      <td>4200</td>\n",
       "    </tr>\n",
       "    <tr>\n",
       "      <th>1</th>\n",
       "      <td>1</td>\n",
       "      <td>Lincoln</td>\n",
       "      <td>LS V8</td>\n",
       "      <td>2002</td>\n",
       "      <td>143250</td>\n",
       "      <td>Gasoline</td>\n",
       "      <td>252.0HP 3.9L 8 Cylinder Engine Gasoline Fuel</td>\n",
       "      <td>A/T</td>\n",
       "      <td>Silver</td>\n",
       "      <td>Beige</td>\n",
       "      <td>At least 1 accident or damage reported</td>\n",
       "      <td>Yes</td>\n",
       "      <td>4999</td>\n",
       "    </tr>\n",
       "    <tr>\n",
       "      <th>2</th>\n",
       "      <td>2</td>\n",
       "      <td>Chevrolet</td>\n",
       "      <td>Silverado 2500 LT</td>\n",
       "      <td>2002</td>\n",
       "      <td>136731</td>\n",
       "      <td>E85 Flex Fuel</td>\n",
       "      <td>320.0HP 5.3L 8 Cylinder Engine Flex Fuel Capab...</td>\n",
       "      <td>A/T</td>\n",
       "      <td>Blue</td>\n",
       "      <td>Gray</td>\n",
       "      <td>None reported</td>\n",
       "      <td>Yes</td>\n",
       "      <td>13900</td>\n",
       "    </tr>\n",
       "  </tbody>\n",
       "</table>\n",
       "</div>"
      ],
      "text/plain": [
       "   id      brand              model  model_year  milage      fuel_type  \\\n",
       "0   0       MINI      Cooper S Base        2007  213000       Gasoline   \n",
       "1   1    Lincoln              LS V8        2002  143250       Gasoline   \n",
       "2   2  Chevrolet  Silverado 2500 LT        2002  136731  E85 Flex Fuel   \n",
       "\n",
       "                                              engine transmission ext_col  \\\n",
       "0       172.0HP 1.6L 4 Cylinder Engine Gasoline Fuel          A/T  Yellow   \n",
       "1       252.0HP 3.9L 8 Cylinder Engine Gasoline Fuel          A/T  Silver   \n",
       "2  320.0HP 5.3L 8 Cylinder Engine Flex Fuel Capab...          A/T    Blue   \n",
       "\n",
       "  int_col                                accident clean_title  price  \n",
       "0    Gray                           None reported         Yes   4200  \n",
       "1   Beige  At least 1 accident or damage reported         Yes   4999  \n",
       "2    Gray                           None reported         Yes  13900  "
      ]
     },
     "execution_count": 5,
     "metadata": {},
     "output_type": "execute_result"
    }
   ],
   "source": [
    "df.head(3)"
   ]
  },
  {
   "cell_type": "code",
   "execution_count": 6,
   "metadata": {},
   "outputs": [
    {
     "data": {
      "text/plain": [
       "<bound method NDFrame.tail of             id          brand                     model  model_year  milage  \\\n",
       "0            0           MINI             Cooper S Base        2007  213000   \n",
       "1            1        Lincoln                     LS V8        2002  143250   \n",
       "2            2      Chevrolet         Silverado 2500 LT        2002  136731   \n",
       "3            3        Genesis          G90 5.0 Ultimate        2017   19500   \n",
       "4            4  Mercedes-Benz               Metris Base        2021    7388   \n",
       "...        ...            ...                       ...         ...     ...   \n",
       "188528  188528       Cadillac     Escalade ESV Platinum        2017   49000   \n",
       "188529  188529  Mercedes-Benz  AMG C 43 AMG C 43 4MATIC        2018   28600   \n",
       "188530  188530  Mercedes-Benz    AMG GLC 63 Base 4MATIC        2021   13650   \n",
       "188531  188531           Audi          S5 3.0T Prestige        2022   13895   \n",
       "188532  188532        Porsche                Macan Base        2016   59500   \n",
       "\n",
       "            fuel_type                                             engine  \\\n",
       "0            Gasoline       172.0HP 1.6L 4 Cylinder Engine Gasoline Fuel   \n",
       "1            Gasoline       252.0HP 3.9L 8 Cylinder Engine Gasoline Fuel   \n",
       "2       E85 Flex Fuel  320.0HP 5.3L 8 Cylinder Engine Flex Fuel Capab...   \n",
       "3            Gasoline       420.0HP 5.0L 8 Cylinder Engine Gasoline Fuel   \n",
       "4            Gasoline       208.0HP 2.0L 4 Cylinder Engine Gasoline Fuel   \n",
       "...               ...                                                ...   \n",
       "188528       Gasoline       420.0HP 6.2L 8 Cylinder Engine Gasoline Fuel   \n",
       "188529       Gasoline      385.0HP 3.0L V6 Cylinder Engine Gasoline Fuel   \n",
       "188530       Gasoline       469.0HP 4.0L 8 Cylinder Engine Gasoline Fuel   \n",
       "188531       Gasoline                                               3.0L   \n",
       "188532       Gasoline       252.0HP 2.0L 4 Cylinder Engine Gasoline Fuel   \n",
       "\n",
       "                          transmission                    ext_col int_col  \\\n",
       "0                                  A/T                     Yellow    Gray   \n",
       "1                                  A/T                     Silver   Beige   \n",
       "2                                  A/T                       Blue    Gray   \n",
       "3       Transmission w/Dual Shift Mode                      Black   Black   \n",
       "4                          7-Speed A/T                      Black   Beige   \n",
       "...                                ...                        ...     ...   \n",
       "188528  Transmission w/Dual Shift Mode                      White   Beige   \n",
       "188529                     8-Speed A/T                      White   Black   \n",
       "188530                     7-Speed A/T                      White   Black   \n",
       "188531               1-Speed Automatic  Daytona Gray Pearl Effect   Black   \n",
       "188532  Transmission w/Dual Shift Mode                      White   Black   \n",
       "\n",
       "                                      accident clean_title  price  \n",
       "0                                None reported         Yes   4200  \n",
       "1       At least 1 accident or damage reported         Yes   4999  \n",
       "2                                None reported         Yes  13900  \n",
       "3                                None reported         Yes  45000  \n",
       "4                                None reported         Yes  97500  \n",
       "...                                        ...         ...    ...  \n",
       "188528                           None reported         Yes  27500  \n",
       "188529  At least 1 accident or damage reported         Yes  30000  \n",
       "188530                           None reported         Yes  86900  \n",
       "188531                           None reported         NaN  84900  \n",
       "188532                           None reported         Yes  28995  \n",
       "\n",
       "[188533 rows x 13 columns]>"
      ]
     },
     "execution_count": 6,
     "metadata": {},
     "output_type": "execute_result"
    }
   ],
   "source": [
    "df.tail"
   ]
  },
  {
   "cell_type": "code",
   "execution_count": 7,
   "metadata": {},
   "outputs": [
    {
     "data": {
      "text/plain": [
       "Index(['id', 'brand', 'model', 'model_year', 'milage', 'fuel_type', 'engine',\n",
       "       'transmission', 'ext_col', 'int_col', 'accident', 'clean_title',\n",
       "       'price'],\n",
       "      dtype='object')"
      ]
     },
     "execution_count": 7,
     "metadata": {},
     "output_type": "execute_result"
    }
   ],
   "source": [
    "df.columns"
   ]
  },
  {
   "cell_type": "code",
   "execution_count": 8,
   "metadata": {},
   "outputs": [
    {
     "name": "stdout",
     "output_type": "stream",
     "text": [
      "The Training Dataset has 188533 rows and 13 columns.\n",
      "The Training Dataset has 125690 rows and 12 columns.\n"
     ]
    }
   ],
   "source": [
    "#Check the shape of data\n",
    "print(f'The Training Dataset has {df.shape[0]} rows and {df.shape[1]} columns.')\n",
    "print(f'The Training Dataset has {df_test.shape[0]} rows and {df_test.shape[1]} columns.')"
   ]
  },
  {
   "cell_type": "code",
   "execution_count": 9,
   "metadata": {},
   "outputs": [
    {
     "name": "stdout",
     "output_type": "stream",
     "text": [
      "<class 'pandas.core.frame.DataFrame'>\n",
      "RangeIndex: 188533 entries, 0 to 188532\n",
      "Data columns (total 13 columns):\n",
      " #   Column        Non-Null Count   Dtype \n",
      "---  ------        --------------   ----- \n",
      " 0   id            188533 non-null  int64 \n",
      " 1   brand         188533 non-null  object\n",
      " 2   model         188533 non-null  object\n",
      " 3   model_year    188533 non-null  int64 \n",
      " 4   milage        188533 non-null  int64 \n",
      " 5   fuel_type     183450 non-null  object\n",
      " 6   engine        188533 non-null  object\n",
      " 7   transmission  188533 non-null  object\n",
      " 8   ext_col       188533 non-null  object\n",
      " 9   int_col       188533 non-null  object\n",
      " 10  accident      186081 non-null  object\n",
      " 11  clean_title   167114 non-null  object\n",
      " 12  price         188533 non-null  int64 \n",
      "dtypes: int64(4), object(9)\n",
      "memory usage: 18.7+ MB\n"
     ]
    }
   ],
   "source": [
    "\n",
    "df.info()"
   ]
  },
  {
   "cell_type": "code",
   "execution_count": 10,
   "metadata": {},
   "outputs": [
    {
     "data": {
      "text/html": [
       "<div>\n",
       "<style scoped>\n",
       "    .dataframe tbody tr th:only-of-type {\n",
       "        vertical-align: middle;\n",
       "    }\n",
       "\n",
       "    .dataframe tbody tr th {\n",
       "        vertical-align: top;\n",
       "    }\n",
       "\n",
       "    .dataframe thead th {\n",
       "        text-align: right;\n",
       "    }\n",
       "</style>\n",
       "<table border=\"1\" class=\"dataframe\">\n",
       "  <thead>\n",
       "    <tr style=\"text-align: right;\">\n",
       "      <th></th>\n",
       "      <th>id</th>\n",
       "      <th>model_year</th>\n",
       "      <th>milage</th>\n",
       "      <th>price</th>\n",
       "    </tr>\n",
       "  </thead>\n",
       "  <tbody>\n",
       "    <tr>\n",
       "      <th>count</th>\n",
       "      <td>188533.000000</td>\n",
       "      <td>188533.000000</td>\n",
       "      <td>188533.000000</td>\n",
       "      <td>1.885330e+05</td>\n",
       "    </tr>\n",
       "    <tr>\n",
       "      <th>mean</th>\n",
       "      <td>94266.000000</td>\n",
       "      <td>2015.829998</td>\n",
       "      <td>65705.295174</td>\n",
       "      <td>4.387802e+04</td>\n",
       "    </tr>\n",
       "    <tr>\n",
       "      <th>std</th>\n",
       "      <td>54424.933488</td>\n",
       "      <td>5.660967</td>\n",
       "      <td>49798.158076</td>\n",
       "      <td>7.881952e+04</td>\n",
       "    </tr>\n",
       "    <tr>\n",
       "      <th>min</th>\n",
       "      <td>0.000000</td>\n",
       "      <td>1974.000000</td>\n",
       "      <td>100.000000</td>\n",
       "      <td>2.000000e+03</td>\n",
       "    </tr>\n",
       "    <tr>\n",
       "      <th>25%</th>\n",
       "      <td>47133.000000</td>\n",
       "      <td>2013.000000</td>\n",
       "      <td>24115.000000</td>\n",
       "      <td>1.700000e+04</td>\n",
       "    </tr>\n",
       "    <tr>\n",
       "      <th>50%</th>\n",
       "      <td>94266.000000</td>\n",
       "      <td>2017.000000</td>\n",
       "      <td>57785.000000</td>\n",
       "      <td>3.082500e+04</td>\n",
       "    </tr>\n",
       "    <tr>\n",
       "      <th>75%</th>\n",
       "      <td>141399.000000</td>\n",
       "      <td>2020.000000</td>\n",
       "      <td>95400.000000</td>\n",
       "      <td>4.990000e+04</td>\n",
       "    </tr>\n",
       "    <tr>\n",
       "      <th>max</th>\n",
       "      <td>188532.000000</td>\n",
       "      <td>2024.000000</td>\n",
       "      <td>405000.000000</td>\n",
       "      <td>2.954083e+06</td>\n",
       "    </tr>\n",
       "  </tbody>\n",
       "</table>\n",
       "</div>"
      ],
      "text/plain": [
       "                  id     model_year         milage         price\n",
       "count  188533.000000  188533.000000  188533.000000  1.885330e+05\n",
       "mean    94266.000000    2015.829998   65705.295174  4.387802e+04\n",
       "std     54424.933488       5.660967   49798.158076  7.881952e+04\n",
       "min         0.000000    1974.000000     100.000000  2.000000e+03\n",
       "25%     47133.000000    2013.000000   24115.000000  1.700000e+04\n",
       "50%     94266.000000    2017.000000   57785.000000  3.082500e+04\n",
       "75%    141399.000000    2020.000000   95400.000000  4.990000e+04\n",
       "max    188532.000000    2024.000000  405000.000000  2.954083e+06"
      ]
     },
     "execution_count": 10,
     "metadata": {},
     "output_type": "execute_result"
    }
   ],
   "source": [
    "df.describe()"
   ]
  },
  {
   "cell_type": "code",
   "execution_count": 11,
   "metadata": {},
   "outputs": [
    {
     "data": {
      "text/html": [
       "<div>\n",
       "<style scoped>\n",
       "    .dataframe tbody tr th:only-of-type {\n",
       "        vertical-align: middle;\n",
       "    }\n",
       "\n",
       "    .dataframe tbody tr th {\n",
       "        vertical-align: top;\n",
       "    }\n",
       "\n",
       "    .dataframe thead th {\n",
       "        text-align: right;\n",
       "    }\n",
       "</style>\n",
       "<table border=\"1\" class=\"dataframe\">\n",
       "  <thead>\n",
       "    <tr style=\"text-align: right;\">\n",
       "      <th></th>\n",
       "      <th>brand</th>\n",
       "      <th>model</th>\n",
       "      <th>fuel_type</th>\n",
       "      <th>engine</th>\n",
       "      <th>transmission</th>\n",
       "      <th>ext_col</th>\n",
       "      <th>int_col</th>\n",
       "      <th>accident</th>\n",
       "      <th>clean_title</th>\n",
       "    </tr>\n",
       "  </thead>\n",
       "  <tbody>\n",
       "    <tr>\n",
       "      <th>count</th>\n",
       "      <td>188533</td>\n",
       "      <td>188533</td>\n",
       "      <td>183450</td>\n",
       "      <td>188533</td>\n",
       "      <td>188533</td>\n",
       "      <td>188533</td>\n",
       "      <td>188533</td>\n",
       "      <td>186081</td>\n",
       "      <td>167114</td>\n",
       "    </tr>\n",
       "    <tr>\n",
       "      <th>unique</th>\n",
       "      <td>57</td>\n",
       "      <td>1897</td>\n",
       "      <td>7</td>\n",
       "      <td>1117</td>\n",
       "      <td>52</td>\n",
       "      <td>319</td>\n",
       "      <td>156</td>\n",
       "      <td>2</td>\n",
       "      <td>1</td>\n",
       "    </tr>\n",
       "    <tr>\n",
       "      <th>top</th>\n",
       "      <td>Ford</td>\n",
       "      <td>F-150 XLT</td>\n",
       "      <td>Gasoline</td>\n",
       "      <td>355.0HP 5.3L 8 Cylinder Engine Gasoline Fuel</td>\n",
       "      <td>A/T</td>\n",
       "      <td>Black</td>\n",
       "      <td>Black</td>\n",
       "      <td>None reported</td>\n",
       "      <td>Yes</td>\n",
       "    </tr>\n",
       "    <tr>\n",
       "      <th>freq</th>\n",
       "      <td>23088</td>\n",
       "      <td>2945</td>\n",
       "      <td>165940</td>\n",
       "      <td>3462</td>\n",
       "      <td>49904</td>\n",
       "      <td>48658</td>\n",
       "      <td>107674</td>\n",
       "      <td>144514</td>\n",
       "      <td>167114</td>\n",
       "    </tr>\n",
       "  </tbody>\n",
       "</table>\n",
       "</div>"
      ],
      "text/plain": [
       "         brand      model fuel_type  \\\n",
       "count   188533     188533    183450   \n",
       "unique      57       1897         7   \n",
       "top       Ford  F-150 XLT  Gasoline   \n",
       "freq     23088       2945    165940   \n",
       "\n",
       "                                              engine transmission ext_col  \\\n",
       "count                                         188533       188533  188533   \n",
       "unique                                          1117           52     319   \n",
       "top     355.0HP 5.3L 8 Cylinder Engine Gasoline Fuel          A/T   Black   \n",
       "freq                                            3462        49904   48658   \n",
       "\n",
       "       int_col       accident clean_title  \n",
       "count   188533         186081      167114  \n",
       "unique     156              2           1  \n",
       "top      Black  None reported         Yes  \n",
       "freq    107674         144514      167114  "
      ]
     },
     "execution_count": 11,
     "metadata": {},
     "output_type": "execute_result"
    }
   ],
   "source": [
    "# Summary statistics for categorical variables\n",
    "df.describe(include='object')"
   ]
  },
  {
   "cell_type": "code",
   "execution_count": 15,
   "metadata": {},
   "outputs": [
    {
     "name": "stdout",
     "output_type": "stream",
     "text": [
      "Missing Percentage in Training Data\n",
      "------------------------------------\n",
      "\n",
      "id              0.00\n",
      "brand           0.00\n",
      "model           0.00\n",
      "model_year      0.00\n",
      "milage          0.00\n",
      "fuel_type       0.21\n",
      "engine          0.00\n",
      "transmission    0.00\n",
      "ext_col         0.00\n",
      "int_col         0.00\n",
      "accident        0.10\n",
      "clean_title     0.87\n",
      "price           0.00\n",
      "dtype: float64\n"
     ]
    }
   ],
   "source": [
    "# Calculate percentage of missing values in each column\n",
    "missing_percentage = (df.isnull().mean() / df.shape[1]) * 100\n",
    "# Format the result to two decimal places\n",
    "missing_percentage = missing_percentage.round(2)\n",
    "print(\"Missing Percentage in Training Data\")\n",
    "print(\"------------------------------------\")\n",
    "print()\n",
    "print(missing_percentage)"
   ]
  },
  {
   "cell_type": "code",
   "execution_count": 17,
   "metadata": {},
   "outputs": [
    {
     "data": {
      "image/png": "[encoded data removed]",
      "text/plain": [
       "<Figure size 1000x600 with 1 Axes>"
      ]
     },
     "metadata": {},
     "output_type": "display_data"
    }
   ],
   "source": [
    "import matplotlib.pyplot as plt\n",
    "\n",
    "missing_percentage.plot(kind='barh', figsize=(10, 6), color='skyblue', edgecolor=\"black\", linewidth=1.0)\n",
    "\n",
    "plt.title(\"Percentage of Missing Values by Column\")\n",
    "plt.xlabel('Percentage')\n",
    "plt.ylabel('Columns')\n",
    "plt.show()"
   ]
  },
  {
   "cell_type": "code",
   "execution_count": null,
   "metadata": {},
   "outputs": [],
   "source": []
  }
 ],
 "metadata": {
  "kernelspec": {
   "display_name": "Python 3",
   "language": "python",
   "name": "python3"
  },
  "language_info": {
   "codemirror_mode": {
    "name": "ipython",
    "version": 3
   },
   "file_extension": ".py",
   "mimetype": "text/x-python",
   "name": "python",
   "nbconvert_exporter": "python",
   "pygments_lexer": "ipython3",
   "version": "3.10.0"
  }
 },
 "nbformat": 4,
 "nbformat_minor": 2
}
